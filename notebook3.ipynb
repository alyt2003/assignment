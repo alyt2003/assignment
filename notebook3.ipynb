{
 "cells": [
  {
   "cell_type": "code",
   "execution_count": 1,
   "metadata": {},
   "outputs": [],
   "source": [
    "#Q9\n",
    "from pydantic import BaseModel"
   ]
  },
  {
   "cell_type": "code",
   "execution_count": null,
   "metadata": {},
   "outputs": [],
   "source": [
    "class Customer(BaseModel) :\n",
    "    name:str\n",
    "    age:float\n",
    "    def __init__(self,name,age):\n",
    "        self.name=name\n",
    "        self.age=age\n",
    "    def set_name(self,name):\n",
    "        self.name=name\n",
    "    def set_age(self,age):\n",
    "        self.age=age\n",
    "    def get_name(self):\n",
    "        return self.name\n",
    "    def get_age(self):\n",
    "        return self.age"
   ]
  },
  {
   "cell_type": "code",
   "execution_count": null,
   "metadata": {},
   "outputs": [],
   "source": [
    "class Bike:\n",
    "    name:str\n",
    "    price:float\n",
    "    def __init__(self, name, price):\n",
    "        self._name = name\n",
    "        self._price = price\n",
    "\n",
    "    def get_name(self):\n",
    "        return self._name\n",
    "\n",
    "    def get_price(self):\n",
    "        return self._price\n",
    "\n",
    "    def set_name(self, name):\n",
    "        self._name = name\n",
    "\n",
    "    def set_price(self, price):\n",
    "        self._price = price"
   ]
  },
  {
   "cell_type": "code",
   "execution_count": null,
   "metadata": {},
   "outputs": [],
   "source": [
    "class MainBikeRental(BaseModel):\n",
    "    bikes:list[str]\n",
    "    rentals:list[str]\n",
    "    def __init__(self,bikes,rentals):\n",
    "        self.bikes=bikes\n",
    "        self.rentals=rentals\n",
    "    def set_bikes(self,bikes):\n",
    "        self.bikes=bikes\n",
    "    def set_rentals(self,rentals):\n",
    "        self.rentals=rentals\n",
    "    def get_rentals(self):\n",
    "        return self.rentals\n",
    "    def get_bikes(self):\n",
    "        return self.bikes\n",
    "    def requestBike(self, customer: Customer, number_of_bikes: int):\n",
    "        if number_of_bikes <= len(self._bike_list):\n",
    "            self.rentals.append(\n",
    "                f\"Customer {customer.name} (Age: {customer.age}) rented {number_of_bikes} bike(s) .\"\n",
    "            )\n",
    "            for _ in range(number_of_bikes):\n",
    "                self.bikes.pop(0)\n",
    "            print(f\" {number_of_bikes} bike(s) rented to {customer.name}\")\n",
    "        else:\n",
    "            print(\" Please wait 10 minutes. Not enough bikes in stock.\")\n",
    "    def returnBike(customer:Customer,rental_time:int,number_of_bikes:int):\n",
    "        cost=(rental_time*40)*number_of_bikes\n",
    "\n",
    "\n"
   ]
  }
 ],
 "metadata": {
  "kernelspec": {
   "display_name": "base",
   "language": "python",
   "name": "python3"
  },
  "language_info": {
   "codemirror_mode": {
    "name": "ipython",
    "version": 3
   },
   "file_extension": ".py",
   "mimetype": "text/x-python",
   "name": "python",
   "nbconvert_exporter": "python",
   "pygments_lexer": "ipython3",
   "version": "3.12.9"
  }
 },
 "nbformat": 4,
 "nbformat_minor": 2
}
