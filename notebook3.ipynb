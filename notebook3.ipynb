{
 "cells": [
  {
   "cell_type": "code",
   "execution_count": null,
   "metadata": {},
   "outputs": [],
   "source": [
    "#Q9"
   ]
  },
  {
   "cell_type": "code",
   "execution_count": null,
   "metadata": {},
   "outputs": [],
   "source": [
    "from pydantic import BaseModel\n",
    "from pydantic import PrivateAttr\n",
    "class Customer(BaseModel) :\n",
    "    _name:str= PrivateAttr()\n",
    "    _age:float=PrivateAttr()\n",
    "    def __init__(self,name:str,age:float):\n",
    "        self._name=name\n",
    "        self._age=age\n",
    "    def set_name(self,name):\n",
    "        self._name=name\n",
    "    def set_age(self,age):\n",
    "        self._age=age\n",
    "    def get_name(self,name):\n",
    "        "
   ]
  }
 ],
 "metadata": {
  "kernelspec": {
   "display_name": "base",
   "language": "python",
   "name": "python3"
  },
  "language_info": {
   "name": "python",
   "version": "3.12.9"
  }
 },
 "nbformat": 4,
 "nbformat_minor": 2
}
