{
 "cells": [
  {
   "cell_type": "code",
   "execution_count": null,
   "metadata": {},
   "outputs": [],
   "source": [
    "#Q8"
   ]
  },
  {
   "cell_type": "code",
   "execution_count": 15,
   "metadata": {},
   "outputs": [],
   "source": [
    "from pydantic import BaseModel\n",
    "from pydantic import PrivateAttr\n",
    "class Restaurant(BaseModel):\n",
    "  _menu_items: dict[str, float] = PrivateAttr(default_factory=dict)\n",
    "  _book_table: dict[int, str] = PrivateAttr(default_factory=dict)\n",
    "  _customer_orders: dict[str, list[str]] = PrivateAttr(default_factory=dict)\n",
    "   \n",
    "  def __init__(self,menu_items,book_table,customer_orders):\n",
    "          super().__init__()\n",
    "          self._menu_items=menu_items\n",
    "          self._book_table=book_table\n",
    "          self._customer_orders=customer_orders\n",
    "\n",
    "\n",
    "  def add_item_to_menu(self,item_name:str,item_price:float):\n",
    "        self._menu_items[item_name]=item_price\n",
    "  def book_tables(self,table_number:int,customer_name:str):\n",
    "        self._book_table[table_number]=customer_name\n",
    "  def customer_order(self,customer_name:str,customer_order:list[str]):\n",
    "        self._customer_orders[customer_name]=customer_order\n",
    "  def print_menu(self):\n",
    "        \n",
    "        for index,key in enumerate(list(self._menu_items.keys()),1):\n",
    "            print(f\"{index}: {key} -----> {self._menu_items[key]}\")\n",
    "  def print_table_reservations(self):\n",
    "        print(\"reservations\")\n",
    "        for table_no,customer_name in zip(list(self._book_table.keys()),list(self._book_table.values())):\n",
    "            print(f\"{table_no} --> {customer_name}\")\n",
    "  def print_customer_order(self,customer_name:str):\n",
    "        order=list(self._customer_orders[customer_name])\n",
    "        print(f\"customer name: {customer_name}\")\n",
    "        for index,item in enumerate(order,1):\n",
    "            print(f\"{index}:{item}\")\n",
    "    \n",
    "\n",
    "        \n",
    "\n"
   ]
  },
  {
   "cell_type": "code",
   "execution_count": 16,
   "metadata": {},
   "outputs": [
    {
     "name": "stdout",
     "output_type": "stream",
     "text": [
      "Menu:\n",
      "1: Pizza -----> 120.0\n",
      "2: Burger -----> 85.0\n",
      "3: Pasta -----> 100.0\n",
      "\n",
      "\n",
      "Table Reservations:\n",
      "reservations\n",
      "1 --> Ali\n",
      "2 --> Nada\n",
      "\n",
      "\n",
      "Orders:\n",
      "customer name: Ali\n",
      "1:Pizza\n",
      "2:Pasta\n",
      "\n",
      "customer name: Nada\n",
      "1:Burger\n"
     ]
    }
   ],
   "source": [
    "if __name__ == \"__main__\":\n",
    "    # إنشاء نسخة من المطعم\n",
    "    restaurant = Restaurant(menu_items={}, book_table={}, customer_orders={})\n",
    "\n",
    "    # إضافة عناصر إلى المنيو\n",
    "    restaurant.add_item_to_menu(\"Pizza\", 120.0)\n",
    "    restaurant.add_item_to_menu(\"Burger\", 85.0)\n",
    "    restaurant.add_item_to_menu(\"Pasta\", 100.0)\n",
    "\n",
    "    # حجز ترابيزة\n",
    "    restaurant.book_tables(1, \"Ali\")\n",
    "    restaurant.book_tables(2, \"Nada\")\n",
    "\n",
    "    # طلبات عميل\n",
    "    restaurant.customer_order(\"Ali\", [\"Pizza\", \"Pasta\"])\n",
    "    restaurant.customer_order(\"Nada\", [\"Burger\"])\n",
    "\n",
    "    # طباعة المنيو\n",
    "    print(\"Menu:\")\n",
    "    restaurant.print_menu()\n",
    "    print(\"\\n\")\n",
    "\n",
    "    # طباعة الحجز\n",
    "    print(\"Table Reservations:\")\n",
    "    restaurant.print_table_reservations()\n",
    "    print(\"\\n\")\n",
    "\n",
    "    # طباعة طلبات العملاء\n",
    "    print(\"Orders:\")\n",
    "    restaurant.print_customer_order(\"Ali\")\n",
    "    print()\n",
    "    restaurant.print_customer_order(\"Nada\")\n"
   ]
  },
  {
   "cell_type": "code",
   "execution_count": null,
   "metadata": {},
   "outputs": [],
   "source": []
  }
 ],
 "metadata": {
  "kernelspec": {
   "display_name": "base",
   "language": "python",
   "name": "python3"
  },
  "language_info": {
   "codemirror_mode": {
    "name": "ipython",
    "version": 3
   },
   "file_extension": ".py",
   "mimetype": "text/x-python",
   "name": "python",
   "nbconvert_exporter": "python",
   "pygments_lexer": "ipython3",
   "version": "3.12.9"
  }
 },
 "nbformat": 4,
 "nbformat_minor": 2
}
